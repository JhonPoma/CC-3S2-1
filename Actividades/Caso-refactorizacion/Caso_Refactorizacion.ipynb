{
  "nbformat": 4,
  "nbformat_minor": 0,
  "metadata": {
    "colab": {
      "provenance": []
    },
    "kernelspec": {
      "name": "python3",
      "display_name": "Python 3"
    },
    "language_info": {
      "name": "python"
    }
  },
  "cells": [
    {
      "cell_type": "markdown",
      "metadata": {
        "id": "view-in-github"
      },
      "source": [
        "<a href=\"https://colab.research.google.com/github/kapumota/Actividades/blob/main/Caso-Refactorizacion.ipynb\" target=\"_parent\"><img src=\"https://colab.research.google.com/assets/colab-badge.svg\" alt=\"Open In Colab\"/></a>"
      ]
    },
    {
      "cell_type": "markdown",
      "source": [
        "### Refactorización con pruebas en Python\n",
        "\n",
        "\n",
        "El caso de uso simple es el de una API de servicio a la que podemos acceder y que produce datos en formato JSON, es decir, una lista de elementos como la que se muestra aquí.\n"
      ],
      "metadata": {
        "id": "ns2THSRAVoH-"
      }
    },
    {
      "cell_type": "code",
      "source": [
        "{\n",
        "    \"edad\": 20,\n",
        "    \"apodo\": \"kapumota\",\n",
        "    \"nombre\": \"Checha\",\n",
        "    \"salario\": \"$943\"\n",
        "}"
      ],
      "metadata": {
        "colab": {
          "base_uri": "https://localhost:8080/"
        },
        "id": "vyKxC5j4Vr74",
        "outputId": "fd3bbf5f-6bfd-4d02-ba42-701a77fbc8f8"
      },
      "execution_count": 1,
      "outputs": [
        {
          "output_type": "execute_result",
          "data": {
            "text/plain": [
              "{'edad': 20, 'apodo': 'kapumota', 'nombre': 'Checha', 'salario': '$943'}"
            ]
          },
          "metadata": {},
          "execution_count": 1
        }
      ]
    },
    {
      "cell_type": "markdown",
      "source": [
        "Escribimos una clase que calcula algunas estadísticas sobre los datos de entrada. Esta clase, llamada `DataStats`  proporciona un solo método `stats()`, cuyas entradas son los datos devueltos por el servicio (en formato JSON) y dos números enteros llamados `iedad` e `isalario`. \n",
        "\n",
        "El codigo es el siguiente:\n"
      ],
      "metadata": {
        "id": "KR_oA6MTV9jU"
      }
    },
    {
      "cell_type": "code",
      "source": [
        "%%writefile datastats.py \n",
        "\n",
        "import math\n",
        "import json\n",
        "\n",
        "\n",
        "class DataStats:\n",
        "  def stats(self, data, iedad, isalario):\n",
        "    incremento_edad_promedio = math.floor(sum([e['edad'] for e in data])/len(data)) - iedad\n",
        "    incremento_salario_promedio = math.floor( sum([int(e['salario'][1:]) for e in data])/len(data)) - isalario\n",
        "\n",
        "    incremento_anual_promedio = math.floor(incremento_salario_promedio/incremento_edad_promedio)\n",
        "\n",
        "    salarios = [int(e['salario'][1:]) for e in data]\n",
        "    limite = '$' + str(max(salarios))\n",
        "\n",
        "    max_salario = [e for e in data if e['salario'] == limite]\n",
        "\n",
        "    salarios = [int(d['salario'][1:]) for d in data]\n",
        "    min_salario = [e for e in data if e['salario'] ==\n",
        "                      '${}'.format(str(min(salarios)))]\n",
        "\n",
        "    return json.dumps({\n",
        "        'edad_promedio': math.floor(sum([e['edad'] for e in data])/len(data)),\n",
        "        'salario_promedio': math.floor(sum( [int(e['salario'][1:]) for e in data])/len(data)),\n",
        "        'incremento_anual_promedio': incremento_anual_promedio,\n",
        "        'max_salario': max_salario,\n",
        "        'min_salario': min_salario\n",
        "        })"
      ],
      "metadata": {
        "colab": {
          "base_uri": "https://localhost:8080/"
        },
        "id": "HwV3CRARV5o1",
        "outputId": "797e067e-ef4b-43a5-f07f-a1a95cccf933"
      },
      "execution_count": 10,
      "outputs": [
        {
          "output_type": "stream",
          "name": "stdout",
          "text": [
            "Overwriting datastats.py\n"
          ]
        }
      ]
    },
    {
      "cell_type": "markdown",
      "source": [
        "**Pregunta:** ¿Puedes encontrar algunos problemas de la clase anterior?"
      ],
      "metadata": {
        "id": "WOu6va8sWjUG"
      }
    },
    {
      "cell_type": "markdown",
      "source": [
        "**Respuesta:** Hay código repetido, por ejemplo se repite varias veces el código para obtener la lista salarios. Hay código que es innecesariamente complejo, como el cálculo del salario mínimo."
      ],
      "metadata": {
        "id": "5Vj1Or9l-nKy"
      }
    },
    {
      "cell_type": "markdown",
      "source": [
        "#### 1 Prueba de los endpoints"
      ],
      "metadata": {
        "id": "zaln0c-7bvmq"
      }
    },
    {
      "cell_type": "markdown",
      "source": [
        "Sean los siguientes datos:"
      ],
      "metadata": {
        "id": "lCKJcvmvXXpm"
      }
    },
    {
      "cell_type": "code",
      "source": [
        "test_data = [\n",
        "    {\n",
        "        \"id\": 1,\n",
        "        \"nombre\": \"Irene\",\n",
        "        \"apodo\": \"Lara\",\n",
        "        \"edad\": 68,\n",
        "        \"salario\": \"$27888\"\n",
        "    },\n",
        "    {\n",
        "        \"id\": 2,\n",
        "        \"nombre\": \"Claudio\",\n",
        "        \"apodo\": \"Avila\",\n",
        "        \"edad\": 49,\n",
        "        \"salario\": \"$67137\"\n",
        "    },\n",
        "    {\n",
        "        \"id\": 3,\n",
        "        \"nombre\": \"Tomo\",\n",
        "        \"apodo\": \"Frugs\",\n",
        "        \"edad\": 70,\n",
        "        \"salario\": \"$70472\"\n",
        "    }\n",
        "]"
      ],
      "metadata": {
        "id": "2qeo7s8wW6HC"
      },
      "execution_count": 11,
      "outputs": []
    },
    {
      "cell_type": "markdown",
      "source": [
        "**Pregunta:** Llamando al método `stats()` con esa salida, con `iedad` establecido en `20` e `isalario` establecido en `20000`, cual es el resultado JSON."
      ],
      "metadata": {
        "id": "XKGfJ2wYXj5C"
      }
    },
    {
      "cell_type": "code",
      "source": [
        "%%writefile test_datastats.py\n",
        "\n",
        "import json\n",
        "\n",
        "from datastats import DataStats\n",
        "\n",
        "\n",
        "def test_json():\n",
        "    test_data = [\n",
        "    {\n",
        "        \"id\": 1,\n",
        "        \"nombre\": \"Irene\",\n",
        "        \"apodo\": \"Lara\",\n",
        "        \"edad\": 68,\n",
        "        \"salario\": \"$27888\"\n",
        "    },\n",
        "    {\n",
        "        \"id\": 2,\n",
        "        \"nombre\": \"Claudio\",\n",
        "        \"apodo\": \"Avila\",\n",
        "        \"edad\": 49,\n",
        "        \"salario\": \"$67137\"\n",
        "    },\n",
        "    {\n",
        "        \"id\": 3,\n",
        "        \"nombre\": \"Tomo\",\n",
        "        \"apodo\": \"Frugs\",\n",
        "        \"edad\": 70,\n",
        "        \"salario\": \"$70472\"\n",
        "    }\n",
        "]\n",
        "   \n",
        "    ds = DataStats()\n",
        "\n",
        "    assert ds.stats(test_data, 20, 20000) == json.dumps(\n",
        "        {\n",
        "\n",
        "        \"edad_promedio\": 62,\n",
        "        \"salario_promedio\": 55165,\n",
        "        \"incremento_anual_promedio\": 837,\n",
        "        \"max_salario\": [{\n",
        "            \"id\": 3,\n",
        "            \"nombre\": \"Tomo\",\n",
        "        \"apodo\": \"Frugs\",\n",
        "        \"edad\": 70,\n",
        "        \"salario\": \"$70472\"\n",
        "    }],\n",
        "    \"min_salario\": [{\n",
        "        \"id\": 1,\n",
        "        \"nombre\": \"Irene\",\n",
        "        \"apodo\": \"Lara\",\n",
        "        \"edad\": 68,\n",
        "        \"salario\": \"$27888\"\n",
        "        }]\n",
        "    }\n",
        "        \n",
        ")"
      ],
      "metadata": {
        "colab": {
          "base_uri": "https://localhost:8080/"
        },
        "id": "1G8dpDRpaAEN",
        "outputId": "96e8e5d0-c9cf-4750-99fc-c58f69465d42"
      },
      "execution_count": 12,
      "outputs": [
        {
          "output_type": "stream",
          "name": "stdout",
          "text": [
            "Writing test_datastats.py\n"
          ]
        }
      ]
    },
    {
      "cell_type": "code",
      "source": [
        "! pytest -v test_datastats.py"
      ],
      "metadata": {
        "colab": {
          "base_uri": "https://localhost:8080/"
        },
        "id": "Xxjc4cTUc9c6",
        "outputId": "7cc98754-0052-46bf-fbd3-6dd9afd5a84f"
      },
      "execution_count": 13,
      "outputs": [
        {
          "output_type": "stream",
          "name": "stdout",
          "text": [
            "\u001b[1m============================= test session starts ==============================\u001b[0m\n",
            "platform linux -- Python 3.10.11, pytest-7.2.2, pluggy-1.0.0 -- /usr/bin/python3\n",
            "cachedir: .pytest_cache\n",
            "rootdir: /content\n",
            "plugins: anyio-3.6.2\n",
            "\u001b[1mcollecting ... \u001b[0m\u001b[1m\rcollected 1 item                                                               \u001b[0m\n",
            "\n",
            "test_datastats.py::test_json \u001b[32mPASSED\u001b[0m\u001b[32m                                      [100%]\u001b[0m\n",
            "\n",
            "\u001b[32m============================== \u001b[32m\u001b[1m1 passed\u001b[0m\u001b[32m in 0.01s\u001b[0m\u001b[32m ===============================\u001b[0m\n"
          ]
        }
      ]
    },
    {
      "cell_type": "markdown",
      "source": [
        "#### 2  Deshacerse del formato JSON\n",
        "\n",
        "\n",
        "El método devuelve su salida en formato JSON, y mirando la clase es bastante evidente que la conversión la realiza  `json.dumps()`.\n",
        "\n",
        "La estructura del código es la siguiente."
      ],
      "metadata": {
        "id": "Qfs4812djJGR"
      }
    },
    {
      "cell_type": "code",
      "source": [
        "class DataStats:\n",
        "  def stats(self, data, iedad, isalario):\n",
        "    [code_parte_1]\n",
        "\n",
        "    return json.dumps({\n",
        "        [code_parte_2]\n",
        "        })"
      ],
      "metadata": {
        "id": "2r0tUah-fAj_"
      },
      "execution_count": 15,
      "outputs": []
    },
    {
      "cell_type": "markdown",
      "source": [
        "Donde obviamente `code_parte_2` depende de `code_parte_1`. La primera refactorización entonces sigue el siguiente procedimiento\n",
        "\n",
        "1. Escribimos una prueba llamada `test__stats()` para un método `_stats()` que se supone que devolverá los datos como una estructura de Python. Podemos inferir esto último manualmente desde JSON o ejecutando `json.loads()` desde un shell de Python. La prueba falla.\n",
        "\n",
        "2. Duplicamos el código del método `stats()` que produce los datos, colocándolo en el nuevo método `_stats()`. La prueba  debe pasar."
      ],
      "metadata": {
        "id": "1xHL7fyEj74w"
      }
    },
    {
      "cell_type": "markdown",
      "source": [
        "3. Eliminamos el código duplicado en `stats()` reemplazándolo con una llamada a `_stats()`.\n"
      ],
      "metadata": {
        "id": "_XkhfEx1mK9o"
      }
    },
    {
      "cell_type": "markdown",
      "source": [
        "Ahora el código de la clase se ve así:\n"
      ],
      "metadata": {
        "id": "EBIyJdQHnEvx"
      }
    },
    {
      "cell_type": "code",
      "source": [
        "%%writefile datastats.py \n",
        "import math\n",
        "import json\n",
        "\n",
        "class DataStats:\n",
        "  \n",
        "  def _stats(self, data, iedad, isalario):\n",
        "    \n",
        "    incremento_edad_promedio = math.floor(\n",
        "            sum([e['edad'] for e in data])/len(data)) - iedad\n",
        "    incremento_salario_promedio= math.floor(\n",
        "            sum([int(e['salario'][1:]) for e in data])/len(data)) - isalario\n",
        "\n",
        "    incremento_anual_promedio = math.floor(\n",
        "            incremento_salario_promedio/incremento_edad_promedio)\n",
        "\n",
        "    salarios = [int(e['salario'][1:]) for e in data]\n",
        "    limite= '$' + str(max(salarios))\n",
        "\n",
        "    max_salario = [e for e in data if e['salario'] == limite]\n",
        "\n",
        "    salarios = [int(d['salario'][1:]) for d in data]\n",
        "    min_salario = [e for e in data if e['salario'] ==\n",
        "                      '${}'.format(str(min(salarios)))]\n",
        "\n",
        "    return {\n",
        "            'edad_promedio': math.floor(sum([e['edad'] for e in data])/len(data)),\n",
        "            'salario_promedio': math.floor(sum(\n",
        "                [int(e['salario'][1:]) for e in data])/len(data)),\n",
        "            'incremento_anual_promedio': incremento_anual_promedio,\n",
        "            'max_salario': max_salario,\n",
        "            'min_salario': min_salario\n",
        "        }\n",
        "\n",
        "  def stats(self, data, iedad, isalario):\n",
        "    return json.dumps(\n",
        "      self._stats(data, iedad, isalario)\n",
        "  )"
      ],
      "metadata": {
        "colab": {
          "base_uri": "https://localhost:8080/"
        },
        "id": "KBtVpZ35mm6C",
        "outputId": "20392ba1-ddf9-42ec-bfde-799b67446dc2"
      },
      "execution_count": 16,
      "outputs": [
        {
          "output_type": "stream",
          "name": "stdout",
          "text": [
            "Overwriting datastats.py\n"
          ]
        }
      ]
    },
    {
      "cell_type": "markdown",
      "source": [
        "Y tenemos dos pruebas que comprueban la corrección de la misma.\n"
      ],
      "metadata": {
        "id": "j6RXt0wtosR4"
      }
    },
    {
      "cell_type": "code",
      "source": [
        "%%writefile test_datastats.py\n",
        "\n",
        "import json\n",
        "\n",
        "from datastats import DataStats\n",
        "\n",
        "\n",
        "def test_json():\n",
        "    test_data = [\n",
        "        {\n",
        "          \"id\": 1,\n",
        "          \"nombre\": \"Irene\",\n",
        "          \"apodo\": \"Lara\",\n",
        "          \"edad\": 68,\n",
        "          \"salario\": \"$27888\" \n",
        "        },\n",
        "       \n",
        "       {\n",
        "           \"id\": 2,\n",
        "          \"nombre\": \"Claudio\",\n",
        "          \"apodo\": \"Avila\",\n",
        "          \"edad\": 49,\n",
        "          \"salario\": \"$67137\"\n",
        "      },\n",
        "      {\n",
        "          \"id\": 3,\n",
        "          \"nombre\": \"Tomo\",\n",
        "          \"apodo\": \"Frugs\",\n",
        "          \"edad\": 70,\n",
        "          \"salario\": \"$70472\"\n",
        "      }\n",
        "    ]\n",
        "\n",
        "    ds = DataStats()\n",
        "\n",
        "    assert ds.stats(test_data, 20, 20000) == json.dumps(\n",
        "        {\n",
        "            \"edad_promedio\": 62,\n",
        "            \"salario_promedio\": 55165,\n",
        "            \"incremento_anual_promedio\": 837,\n",
        "            \"max_salario\": [{\n",
        "                 \"id\": 3,\n",
        "                  \"nombre\": \"Tomo\",\n",
        "                  \"apodo\": \"Frugs\",\n",
        "                  \"edad\": 70,\n",
        "                  \"salario\": \"$70472\"\n",
        "           }],\n",
        "          \"min_salario\": [{\n",
        "              \"id\": 1,\n",
        "              \"nombre\": \"Irene\",\n",
        "              \"apodo\": \"Lara\",\n",
        "              \"edad\": 68,\n",
        "              \"salario\": \"$27888\"\n",
        "            }]\n",
        "       }\n",
        "    )\n",
        "        \n",
        "\n",
        "def test__stats():\n",
        "    test_data = [\n",
        "        {\n",
        "        \"id\": 1,\n",
        "        \"nombre\": \"Irene\",\n",
        "        \"apodo\": \"Lara\",\n",
        "        \"edad\": 68,\n",
        "        \"salario\": \"$27888\"\n",
        "    },\n",
        "    {\n",
        "        \"id\": 2,\n",
        "        \"nombre\": \"Claudio\",\n",
        "        \"apodo\": \"Avila\",\n",
        "        \"edad\": 49,\n",
        "        \"salario\": \"$67137\"\n",
        "    },\n",
        "    {\n",
        "        \"id\": 3,\n",
        "        \"nombre\": \"Tomo\",\n",
        "        \"apodo\": \"Frugs\",\n",
        "        \"edad\": 70,\n",
        "        \"salario\": \"$70472\"\n",
        "    }\n",
        "        \n",
        "    ]\n",
        "\n",
        "    ds = DataStats()\n",
        "\n",
        "    assert ds._stats(test_data, 20, 20000) == {\n",
        "        \"edad_promedio\": 62,\n",
        "        \"salario_promedio\": 55165,\n",
        "        \"incremento_anual_promedio\": 837,\n",
        "        \"max_salario\": [{\n",
        "            \"id\": 3,\n",
        "            \"nombre\": \"Tomo\",\n",
        "            \"apodo\": \"Frugs\",\n",
        "             \"edad\": 70,\n",
        "              \"salario\": \"$70472\"\n",
        "    }],\n",
        "    \"min_salario\": [{\n",
        "        \"id\": 1,\n",
        "        \"nombre\": \"Irene\",\n",
        "        \"apodo\": \"Lara\",\n",
        "        \"edad\": 68,\n",
        "        \"salario\": \"$27888\"\n",
        "        \n",
        "        }]\n",
        "    }"
      ],
      "metadata": {
        "colab": {
          "base_uri": "https://localhost:8080/"
        },
        "id": "iECHpaqXw5A8",
        "outputId": "4b2b5877-2a83-4c99-d24a-ff55467002e9"
      },
      "execution_count": 17,
      "outputs": [
        {
          "output_type": "stream",
          "name": "stdout",
          "text": [
            "Overwriting test_datastats.py\n"
          ]
        }
      ]
    },
    {
      "cell_type": "code",
      "source": [
        "! pytest test_datastats.py"
      ],
      "metadata": {
        "colab": {
          "base_uri": "https://localhost:8080/"
        },
        "outputId": "37cacc22-3568-4763-f4bd-cf6be8c1f872",
        "id": "6zcqdDKdquyS"
      },
      "execution_count": 18,
      "outputs": [
        {
          "output_type": "stream",
          "name": "stdout",
          "text": [
            "\u001b[1m============================= test session starts ==============================\u001b[0m\n",
            "platform linux -- Python 3.10.11, pytest-7.2.2, pluggy-1.0.0\n",
            "rootdir: /content\n",
            "plugins: anyio-3.6.2\n",
            "\u001b[1mcollecting ... \u001b[0m\u001b[1m\rcollected 2 items                                                              \u001b[0m\n",
            "\n",
            "test_datastats.py \u001b[32m.\u001b[0m\u001b[32m.\u001b[0m\u001b[32m                                                     [100%]\u001b[0m\n",
            "\n",
            "\u001b[32m============================== \u001b[32m\u001b[1m2 passed\u001b[0m\u001b[32m in 0.01s\u001b[0m\u001b[32m ===============================\u001b[0m\n"
          ]
        }
      ]
    },
    {
      "cell_type": "markdown",
      "source": [
        "#### 3 Refactorización de las pruebas\n",
        "\n",
        "\n",
        "Está bastante claro que la lista de diccionarios `test_data` se usará en cada prueba que realicemos, por lo que ya es hora de que la traslademos a una variable global. \n",
        "También podríamos mover los datos de salida a una variable global.\n",
        "\n",
        "El conjunto de pruebas ahora parece:"
      ],
      "metadata": {
        "id": "2OrDQVVA2arg"
      }
    },
    {
      "cell_type": "code",
      "source": [
        "%%writefile test_datastats.py\n",
        "\n",
        "import json\n",
        "\n",
        "from datastats import DataStats\n",
        "\n",
        "\n",
        "test_data = [\n",
        "        {\n",
        "          \"id\": 1,\n",
        "          \"nombre\": \"Irene\",\n",
        "          \"apodo\": \"Lara\",\n",
        "          \"edad\": 68,\n",
        "          \"salario\": \"$27888\" \n",
        "        },\n",
        "       \n",
        "       {\n",
        "           \"id\": 2,\n",
        "          \"nombre\": \"Claudio\",\n",
        "          \"apodo\": \"Avila\",\n",
        "          \"edad\": 49,\n",
        "          \"salario\": \"$67137\"\n",
        "      },\n",
        "      {\n",
        "          \"id\": 3,\n",
        "          \"nombre\": \"Tomo\",\n",
        "          \"apodo\": \"Frugs\",\n",
        "          \"edad\": 70,\n",
        "          \"salario\": \"$70472\"\n",
        "      }\n",
        "    ]\n",
        "\n",
        "def test_json():\n",
        "  \n",
        "  ds = DataStats()\n",
        "\n",
        "  assert ds.stats(test_data, 20, 20000) == json.dumps(\n",
        "        {\n",
        "            \"edad_promedio\": 62,\n",
        "            \"salario_promedio\": 55165,\n",
        "            \"incremento_anual_promedio\": 837,\n",
        "            \"max_salario\": [{\n",
        "                 \"id\": 3,\n",
        "                  \"nombre\": \"Tomo\",\n",
        "                  \"apodo\": \"Frugs\",\n",
        "                  \"edad\": 70,\n",
        "                  \"salario\": \"$70472\"\n",
        "           }],\n",
        "          \"min_salario\": [{\n",
        "              \"id\": 1,\n",
        "              \"nombre\": \"Irene\",\n",
        "              \"apodo\": \"Lara\",\n",
        "              \"edad\": 68,\n",
        "              \"salario\": \"$27888\"\n",
        "            }]\n",
        "       }\n",
        "    )\n",
        "        \n",
        "\n",
        "def test__stats():\n",
        "\n",
        "   ds = DataStats()\n",
        "   \n",
        "   assert ds._stats(test_data, 20, 20000) == {\n",
        "        \"edad_promedio\": 62,\n",
        "        \"salario_promedio\": 55165,\n",
        "        \"incremento_anual_promedio\": 837,\n",
        "        \"max_salario\": [{\n",
        "            \"id\": 3,\n",
        "            \"nombre\": \"Tomo\",\n",
        "            \"apodo\": \"Frugs\",\n",
        "             \"edad\": 70,\n",
        "              \"salario\": \"$70472\"\n",
        "    }],\n",
        "    \"min_salario\": [{\n",
        "        \"id\": 1,\n",
        "        \"nombre\": \"Irene\",\n",
        "        \"apodo\": \"Lara\",\n",
        "        \"edad\": 68,\n",
        "        \"salario\": \"$27888\"\n",
        "        \n",
        "        }]\n",
        "    }"
      ],
      "metadata": {
        "id": "siN4fTHcqw5f",
        "colab": {
          "base_uri": "https://localhost:8080/"
        },
        "outputId": "407d3856-6ced-46f8-eaaf-71af3f3deb2c"
      },
      "execution_count": 19,
      "outputs": [
        {
          "output_type": "stream",
          "name": "stdout",
          "text": [
            "Overwriting test_datastats.py\n"
          ]
        }
      ]
    },
    {
      "cell_type": "code",
      "source": [
        "! pytest test_datastats.py"
      ],
      "metadata": {
        "colab": {
          "base_uri": "https://localhost:8080/"
        },
        "id": "Zx0-y_Rn9Mu3",
        "outputId": "aef47103-0272-4071-9bd7-79c02bde0438"
      },
      "execution_count": 20,
      "outputs": [
        {
          "output_type": "stream",
          "name": "stdout",
          "text": [
            "\u001b[1m============================= test session starts ==============================\u001b[0m\n",
            "platform linux -- Python 3.10.11, pytest-7.2.2, pluggy-1.0.0\n",
            "rootdir: /content\n",
            "plugins: anyio-3.6.2\n",
            "\u001b[1mcollecting ... \u001b[0m\u001b[1m\rcollected 2 items                                                              \u001b[0m\n",
            "\n",
            "test_datastats.py \u001b[32m.\u001b[0m\u001b[32m.\u001b[0m\u001b[32m                                                     [100%]\u001b[0m\n",
            "\n",
            "\u001b[32m============================== \u001b[32m\u001b[1m2 passed\u001b[0m\u001b[32m in 0.02s\u001b[0m\u001b[32m ===============================\u001b[0m\n"
          ]
        }
      ]
    },
    {
      "cell_type": "markdown",
      "source": [
        "#### 4 Aislamiento del algoritmo de edad promedio\n",
        "\n",
        "Aislar características independientes es un objetivo clave del diseño de software. Por lo tanto, la refactorización tendrá como objetivo desentrañar el código dividiéndolo en pequeñas funciones separadas.\n",
        "\n",
        "\n",
        "Para aislar algún código, lo primero que debe hacer es duplicarlo, colocándolo en un método dedicado. Como estamos refactorizando con pruebas, lo primero es escribir una prueba para este método.\n"
      ],
      "metadata": {
        "id": "Cl8PErtN9pt9"
      }
    },
    {
      "cell_type": "code",
      "source": [
        "%%writefile datastats.py \n",
        "import math\n",
        "import json\n",
        "\n",
        "class DataStats:\n",
        "\n",
        "  def _edad_promedio(self, data):\n",
        "    return math.floor(sum([e['edad'] for e in data])/len(data))\n",
        "  \n",
        "  def _stats(self, data, iedad, isalario):\n",
        "    \n",
        "    incremento_edad_promedio = math.floor(\n",
        "            sum([e['edad'] for e in data])/len(data)) - iedad\n",
        "    incremento_salario_promedio= math.floor(\n",
        "            sum([int(e['salario'][1:]) for e in data])/len(data)) - isalario\n",
        "\n",
        "    incremento_anual_promedio = math.floor(\n",
        "            incremento_salario_promedio/incremento_edad_promedio)\n",
        "\n",
        "    salarios = [int(e['salario'][1:]) for e in data]\n",
        "    limite= '$' + str(max(salarios))\n",
        "\n",
        "    max_salario = [e for e in data if e['salario'] == limite]\n",
        "\n",
        "    salarios = [int(d['salario'][1:]) for d in data]\n",
        "    min_salario = [e for e in data if e['salario'] ==\n",
        "                      '${}'.format(str(min(salarios)))]\n",
        "\n",
        "    return {\n",
        "            'edad_promedio': self._edad_promedio(data),\n",
        "            'salario_promedio': math.floor(sum(\n",
        "                [int(e['salario'][1:]) for e in data])/len(data)),\n",
        "            'incremento_anual_promedio': incremento_anual_promedio,\n",
        "            'max_salario': max_salario,\n",
        "            'min_salario': min_salario\n",
        "        }\n",
        "\n",
        "  def stats(self, data, iedad, isalario):\n",
        "    return json.dumps(\n",
        "      self._stats(data, iedad, isalario)\n",
        "  )"
      ],
      "metadata": {
        "colab": {
          "base_uri": "https://localhost:8080/"
        },
        "id": "hy9s7AZv97TC",
        "outputId": "ba23e48f-ffb6-4d66-a07b-ac7d2bd2589b"
      },
      "execution_count": 21,
      "outputs": [
        {
          "output_type": "stream",
          "name": "stdout",
          "text": [
            "Overwriting datastats.py\n"
          ]
        }
      ]
    },
    {
      "cell_type": "code",
      "source": [
        "%%writefile test_datastats.py\n",
        "\n",
        "import json\n",
        "\n",
        "from datastats import DataStats\n",
        "\n",
        "\n",
        "test_data = [\n",
        "        {\n",
        "          \"id\": 1,\n",
        "          \"nombre\": \"Irene\",\n",
        "          \"apodo\": \"Lara\",\n",
        "          \"edad\": 68,\n",
        "          \"salario\": \"$27888\" \n",
        "        },\n",
        "       \n",
        "       {\n",
        "           \"id\": 2,\n",
        "          \"nombre\": \"Claudio\",\n",
        "          \"apodo\": \"Avila\",\n",
        "          \"edad\": 49,\n",
        "          \"salario\": \"$67137\"\n",
        "      },\n",
        "      {\n",
        "          \"id\": 3,\n",
        "          \"nombre\": \"Tomo\",\n",
        "          \"apodo\": \"Frugs\",\n",
        "          \"edad\": 70,\n",
        "          \"salario\": \"$70472\"\n",
        "      }\n",
        "    ]\n",
        "\n",
        "def test_json():\n",
        "  \n",
        "  ds = DataStats()\n",
        "\n",
        "  assert ds.stats(test_data, 20, 20000) == json.dumps(\n",
        "        {\n",
        "            \"edad_promedio\": 62,\n",
        "            \"salario_promedio\": 55165,\n",
        "            \"incremento_anual_promedio\": 837,\n",
        "            \"max_salario\": [{\n",
        "                 \"id\": 3,\n",
        "                  \"nombre\": \"Tomo\",\n",
        "                  \"apodo\": \"Frugs\",\n",
        "                  \"edad\": 70,\n",
        "                  \"salario\": \"$70472\"\n",
        "           }],\n",
        "          \"min_salario\": [{\n",
        "              \"id\": 1,\n",
        "              \"nombre\": \"Irene\",\n",
        "              \"apodo\": \"Lara\",\n",
        "              \"edad\": 68,\n",
        "              \"salario\": \"$27888\"\n",
        "            }]\n",
        "       }\n",
        "    )\n",
        "        \n",
        "\n",
        "def test__stats():\n",
        "\n",
        "   ds = DataStats()\n",
        "   \n",
        "   assert ds._stats(test_data, 20, 20000) == {\n",
        "        \"edad_promedio\": 62,\n",
        "        \"salario_promedio\": 55165,\n",
        "        \"incremento_anual_promedio\": 837,\n",
        "        \"max_salario\": [{\n",
        "            \"id\": 3,\n",
        "            \"nombre\": \"Tomo\",\n",
        "            \"apodo\": \"Frugs\",\n",
        "             \"edad\": 70,\n",
        "              \"salario\": \"$70472\"\n",
        "    }],\n",
        "    \"min_salario\": [{\n",
        "        \"id\": 1,\n",
        "        \"nombre\": \"Irene\",\n",
        "        \"apodo\": \"Lara\",\n",
        "        \"edad\": 68,\n",
        "        \"salario\": \"$27888\"\n",
        "        \n",
        "        }]\n",
        "    }\n",
        "\n",
        "def test__edad_promedio():\n",
        "  ds = DataStats()\n",
        "  \n",
        "  assert ds._edad_promedio(test_data) == 62"
      ],
      "metadata": {
        "colab": {
          "base_uri": "https://localhost:8080/"
        },
        "id": "ZH0SIpa0_4rn",
        "outputId": "bf217b1c-52ae-4d05-80ac-c22ac37d38ab"
      },
      "execution_count": null,
      "outputs": [
        {
          "output_type": "stream",
          "name": "stdout",
          "text": [
            "Overwriting test_datastats.py\n"
          ]
        }
      ]
    },
    {
      "cell_type": "code",
      "source": [
        "! pytest test_datastats.py"
      ],
      "metadata": {
        "colab": {
          "base_uri": "https://localhost:8080/"
        },
        "id": "hT42ulLpAqyE",
        "outputId": "dcf37574-ed53-47da-dce5-9b778bba855b"
      },
      "execution_count": null,
      "outputs": [
        {
          "output_type": "stream",
          "name": "stdout",
          "text": [
            "\u001b[1m============================= test session starts ==============================\u001b[0m\n",
            "platform linux -- Python 3.10.11, pytest-7.2.2, pluggy-1.0.0\n",
            "rootdir: /content\n",
            "plugins: anyio-3.6.2\n",
            "\u001b[1mcollecting ... \u001b[0m\u001b[1m\rcollected 3 items                                                              \u001b[0m\n",
            "\n",
            "test_datastats.py \u001b[32m.\u001b[0m\u001b[32m.\u001b[0m\u001b[32m.\u001b[0m\u001b[32m                                                    [100%]\u001b[0m\n",
            "\n",
            "\u001b[32m============================== \u001b[32m\u001b[1m3 passed\u001b[0m\u001b[32m in 0.02s\u001b[0m\u001b[32m ===============================\u001b[0m\n"
          ]
        }
      ]
    },
    {
      "cell_type": "markdown",
      "source": [
        "#### 5 Aíslamiento el algoritmo de salario promedio\n"
      ],
      "metadata": {
        "id": "dSaD8llWDI1k"
      }
    },
    {
      "cell_type": "code",
      "source": [
        "%%writefile datastats.py \n",
        "import math\n",
        "import json\n",
        "\n",
        "class DataStats:\n",
        "  def _salario_promedio(self, data):\n",
        "    return math.floor(sum([int(e['salario'][1:]) for e in data])/len(data))\n",
        "\n",
        "  def _edad_promedio(self, data):\n",
        "    return math.floor(sum([e['edad'] for e in data])/len(data))\n",
        "  \n",
        "  def _stats(self, data, iedad, isalario):\n",
        "    \n",
        "    incremento_edad_promedio = math.floor(\n",
        "            sum([e['edad'] for e in data])/len(data)) - iedad\n",
        "    incremento_salario_promedio= math.floor(\n",
        "            sum([int(e['salario'][1:]) for e in data])/len(data)) - isalario\n",
        "\n",
        "    incremento_anual_promedio = math.floor(\n",
        "            incremento_salario_promedio/incremento_edad_promedio)\n",
        "\n",
        "    salarios = [int(e['salario'][1:]) for e in data]\n",
        "    limite= '$' + str(max(salarios))\n",
        "\n",
        "    max_salario = [e for e in data if e['salario'] == limite]\n",
        "\n",
        "    salarios = [int(d['salario'][1:]) for d in data]\n",
        "    min_salario = [e for e in data if e['salario'] ==\n",
        "                      '${}'.format(str(min(salarios)))]\n",
        "\n",
        "    return {\n",
        "            'edad_promedio': self._edad_promedio(data),\n",
        "            'salario_promedio': self._salario_promedio(data),\n",
        "            'incremento_anual_promedio': incremento_anual_promedio,\n",
        "            'max_salario': max_salario,\n",
        "            'min_salario': min_salario\n",
        "        }\n",
        "\n",
        "  def stats(self, data, iedad, isalario):\n",
        "    return json.dumps(\n",
        "      self._stats(data, iedad, isalario)\n",
        "  )"
      ],
      "metadata": {
        "colab": {
          "base_uri": "https://localhost:8080/"
        },
        "id": "pv2DFnw4DN5T",
        "outputId": "d5ccadc0-1f3c-4592-9175-9805e2491edd"
      },
      "execution_count": null,
      "outputs": [
        {
          "output_type": "stream",
          "name": "stdout",
          "text": [
            "Overwriting datastats.py\n"
          ]
        }
      ]
    },
    {
      "cell_type": "code",
      "source": [
        "%%writefile test_datastats.py\n",
        "\n",
        "import json\n",
        "\n",
        "from datastats import DataStats\n",
        "\n",
        "\n",
        "test_data = [\n",
        "        {\n",
        "          \"id\": 1,\n",
        "          \"nombre\": \"Irene\",\n",
        "          \"apodo\": \"Lara\",\n",
        "          \"edad\": 68,\n",
        "          \"salario\": \"$27888\" \n",
        "        },\n",
        "       \n",
        "       {\n",
        "           \"id\": 2,\n",
        "          \"nombre\": \"Claudio\",\n",
        "          \"apodo\": \"Avila\",\n",
        "          \"edad\": 49,\n",
        "          \"salario\": \"$67137\"\n",
        "      },\n",
        "      {\n",
        "          \"id\": 3,\n",
        "          \"nombre\": \"Tomo\",\n",
        "          \"apodo\": \"Frugs\",\n",
        "          \"edad\": 70,\n",
        "          \"salario\": \"$70472\"\n",
        "      }\n",
        "    ]\n",
        "\n",
        "def test_json():\n",
        "  \n",
        "  ds = DataStats()\n",
        "\n",
        "  assert ds.stats(test_data, 20, 20000) == json.dumps(\n",
        "        {\n",
        "            \"edad_promedio\": 62,\n",
        "            \"salario_promedio\": 55165,\n",
        "            \"incremento_anual_promedio\": 837,\n",
        "            \"max_salario\": [{\n",
        "                 \"id\": 3,\n",
        "                  \"nombre\": \"Tomo\",\n",
        "                  \"apodo\": \"Frugs\",\n",
        "                  \"edad\": 70,\n",
        "                  \"salario\": \"$70472\"\n",
        "           }],\n",
        "          \"min_salario\": [{\n",
        "              \"id\": 1,\n",
        "              \"nombre\": \"Irene\",\n",
        "              \"apodo\": \"Lara\",\n",
        "              \"edad\": 68,\n",
        "              \"salario\": \"$27888\"\n",
        "            }]\n",
        "       }\n",
        "    )\n",
        "        \n",
        "\n",
        "def test__stats():\n",
        "\n",
        "   ds = DataStats()\n",
        "   \n",
        "   assert ds._stats(test_data, 20, 20000) == {\n",
        "        \"edad_promedio\": 62,\n",
        "        \"salario_promedio\": 55165,\n",
        "        \"incremento_anual_promedio\": 837,\n",
        "        \"max_salario\": [{\n",
        "            \"id\": 3,\n",
        "            \"nombre\": \"Tomo\",\n",
        "            \"apodo\": \"Frugs\",\n",
        "             \"edad\": 70,\n",
        "              \"salario\": \"$70472\"\n",
        "    }],\n",
        "    \"min_salario\": [{\n",
        "        \"id\": 1,\n",
        "        \"nombre\": \"Irene\",\n",
        "        \"apodo\": \"Lara\",\n",
        "        \"edad\": 68,\n",
        "        \"salario\": \"$27888\"\n",
        "        \n",
        "        }]\n",
        "    }\n",
        "\n",
        "def test__edad_promedio():\n",
        "  ds = DataStats()\n",
        "  \n",
        "  assert ds._edad_promedio(test_data) == 62\n",
        "\n",
        "def test__salario_promedio():\n",
        "  ds = DataStats()\n",
        "  assert ds._salario_promedio(test_data) == 55165"
      ],
      "metadata": {
        "colab": {
          "base_uri": "https://localhost:8080/"
        },
        "id": "OyxKzZs7IUiX",
        "outputId": "b909da02-6768-4b09-92e5-632b2129ed52"
      },
      "execution_count": null,
      "outputs": [
        {
          "output_type": "stream",
          "name": "stdout",
          "text": [
            "Overwriting test_datastats.py\n"
          ]
        }
      ]
    },
    {
      "cell_type": "code",
      "source": [
        "! pytest test_datastats.py"
      ],
      "metadata": {
        "colab": {
          "base_uri": "https://localhost:8080/"
        },
        "id": "5CZfMBdbI554",
        "outputId": "28835f64-a602-4720-d421-b4bacd0c1c63"
      },
      "execution_count": null,
      "outputs": [
        {
          "output_type": "stream",
          "name": "stdout",
          "text": [
            "\u001b[1m============================= test session starts ==============================\u001b[0m\n",
            "platform linux -- Python 3.10.11, pytest-7.2.2, pluggy-1.0.0\n",
            "rootdir: /content\n",
            "plugins: anyio-3.6.2\n",
            "\u001b[1mcollecting ... \u001b[0m\u001b[1m\rcollected 4 items                                                              \u001b[0m\n",
            "\n",
            "test_datastats.py \u001b[32m.\u001b[0m\u001b[32m.\u001b[0m\u001b[32m.\u001b[0m\u001b[32m.\u001b[0m\u001b[32m                                                   [100%]\u001b[0m\n",
            "\n",
            "\u001b[32m============================== \u001b[32m\u001b[1m4 passed\u001b[0m\u001b[32m in 0.02s\u001b[0m\u001b[32m ===============================\u001b[0m\n"
          ]
        }
      ]
    },
    {
      "cell_type": "markdown",
      "source": [
        "#### 6 Aislamiento del algoritmo de aumento anual promedio\n",
        "\n",
        "Para el incremento promedio anual del salario tenemos una nueva prueba:"
      ],
      "metadata": {
        "id": "vLnHczEmJDuA"
      }
    },
    {
      "cell_type": "code",
      "source": [
        "#def test__incremento_anual_promedio():\n",
        "#  ds = DataStats()\n",
        "#  assert ds._incremento_anual_promedio(test_data, 20, 20000) == 837"
      ],
      "metadata": {
        "id": "XvVdcLnAJby4"
      },
      "execution_count": null,
      "outputs": []
    },
    {
      "cell_type": "markdown",
      "source": [
        "Un nuevo método que pasa la prueba:"
      ],
      "metadata": {
        "id": "_F7sCrXdJnso"
      }
    },
    {
      "cell_type": "code",
      "source": [
        "#def _incremento_anual_promedio(self, data, iedad, isalario):\n",
        "#  incremento_anual_promedio = math.floor(\n",
        "#            sum([e['edad'] for e in data])/len(data)) - iedad\n",
        "#  incremento_salario_promedio = math.floor(\n",
        "#            sum([int(e['salario'][1:]) for e in data])/len(data)) - isalario\n",
        "\n",
        "#  return math.floor(incremento_salario_promedio/incremento_edad_promedio)"
      ],
      "metadata": {
        "id": "1KWbktesJjtI"
      },
      "execution_count": null,
      "outputs": []
    },
    {
      "cell_type": "markdown",
      "source": [
        "Y una nueva versión del método `_stats()`:"
      ],
      "metadata": {
        "id": "9nW7r2P0KChB"
      }
    },
    {
      "cell_type": "code",
      "source": [
        "#def _stats(self, data, iedad, isalario):\n",
        "#  salarios = [int(e['salario'][1:]) for e in data]\n",
        "#  limite= '$' + str(max(salarios))\n",
        "#\n",
        "#  max_salario = [e for e in data if e['salario'] == limite]\n",
        "#\n",
        "#  salarios = [int(d['salario'][1:]) for d in data]\n",
        "#  min_salario = [e for e in data if e['salario'] ==\n",
        "#                      '${}'.format(str(min(salarios)))]\n",
        "#\n",
        "#  return {\n",
        "#        'edad_promedio': self._avg_age(data),\n",
        "#        'salario_promedio':  self._salario_promedio(data),\n",
        "#        'incremento_anual_promedio': self._incremento_anual_promedio (\n",
        "#                data, iedad, isalario),\n",
        "#        'max_salario': max_salario,\n",
        "#        'min_salario': min_salario\n",
        "#        }"
      ],
      "metadata": {
        "id": "zU8LmKApKFjw"
      },
      "execution_count": null,
      "outputs": []
    },
    {
      "cell_type": "markdown",
      "source": [
        "Con todo esto tenemos:"
      ],
      "metadata": {
        "id": "LRlCT6uiKgU0"
      }
    },
    {
      "cell_type": "code",
      "source": [
        "%%writefile datastats.py \n",
        "import math\n",
        "import json\n",
        "\n",
        "class DataStats:\n",
        "  \n",
        "  def _salario_promedio(self, data):\n",
        "    return math.floor(sum([int(e['salario'][1:]) for e in data])/len(data))\n",
        "\n",
        "  def _edad_promedio(self, data):\n",
        "    return math.floor(sum([e['edad'] for e in data])/len(data))\n",
        "\n",
        "  def _incremento_anual_promedio(self, data, iedad, isalario):\n",
        "    \n",
        "    incremento_edad_promedio = math.floor(\n",
        "            sum([e['edad'] for e in data])/len(data)) - iedad\n",
        "    incremento_salario_promedio = math.floor(\n",
        "            sum([int(e['salario'][1:]) for e in data])/len(data)) - isalario\n",
        "\n",
        "    return math.floor(incremento_salario_promedio/incremento_edad_promedio)\n",
        "  \n",
        "  def _stats(self, data, iedad, isalario):\n",
        "    salarios = [int(e['salario'][1:]) for e in data]\n",
        "    limite= '$' + str(max(salarios))\n",
        "\n",
        "    max_salario = [e for e in data if e['salario'] == limite]\n",
        "\n",
        "    salarios = [int(d['salario'][1:]) for d in data]\n",
        "    min_salario = [e for e in data if e['salario'] ==\n",
        "                      '${}'.format(str(min(salarios)))]\n",
        "\n",
        "    return {\n",
        "            'edad_promedio': self._edad_promedio(data),\n",
        "            'salario_promedio': self._salario_promedio(data),\n",
        "            'incremento_anual_promedio': self._incremento_anual_promedio(\n",
        "                data, iedad, isalario),\n",
        "            'max_salario': max_salario,\n",
        "            'min_salario': min_salario\n",
        "        }\n",
        "\n",
        "  def stats(self, data, iedad, isalario):\n",
        "    return json.dumps(\n",
        "      self._stats(data, iedad, isalario)\n",
        "  )"
      ],
      "metadata": {
        "colab": {
          "base_uri": "https://localhost:8080/"
        },
        "id": "h_q67G8pK5hA",
        "outputId": "6f276a48-682a-4715-a9fa-23044454977c"
      },
      "execution_count": null,
      "outputs": [
        {
          "output_type": "stream",
          "name": "stdout",
          "text": [
            "Overwriting datastats.py\n"
          ]
        }
      ]
    },
    {
      "cell_type": "code",
      "source": [
        "%%writefile test_datastats.py\n",
        "\n",
        "import json\n",
        "\n",
        "from datastats import DataStats\n",
        "\n",
        "\n",
        "test_data = [\n",
        "        {\n",
        "          \"id\": 1,\n",
        "          \"nombre\": \"Irene\",\n",
        "          \"apodo\": \"Lara\",\n",
        "          \"edad\": 68,\n",
        "          \"salario\": \"$27888\" \n",
        "        },\n",
        "       \n",
        "       {\n",
        "           \"id\": 2,\n",
        "          \"nombre\": \"Claudio\",\n",
        "          \"apodo\": \"Avila\",\n",
        "          \"edad\": 49,\n",
        "          \"salario\": \"$67137\"\n",
        "      },\n",
        "      {\n",
        "          \"id\": 3,\n",
        "          \"nombre\": \"Tomo\",\n",
        "          \"apodo\": \"Frugs\",\n",
        "          \"edad\": 70,\n",
        "          \"salario\": \"$70472\"\n",
        "      }\n",
        "    ]\n",
        "\n",
        "def test_json():\n",
        "  \n",
        "  ds = DataStats()\n",
        "\n",
        "  assert ds.stats(test_data, 20, 20000) == json.dumps(\n",
        "        {\n",
        "            \"edad_promedio\": 62,\n",
        "            \"salario_promedio\": 55165,\n",
        "            \"incremento_anual_promedio\": 837,\n",
        "            \"max_salario\": [{\n",
        "                 \"id\": 3,\n",
        "                  \"nombre\": \"Tomo\",\n",
        "                  \"apodo\": \"Frugs\",\n",
        "                  \"edad\": 70,\n",
        "                  \"salario\": \"$70472\"\n",
        "           }],\n",
        "          \"min_salario\": [{\n",
        "              \"id\": 1,\n",
        "              \"nombre\": \"Irene\",\n",
        "              \"apodo\": \"Lara\",\n",
        "              \"edad\": 68,\n",
        "              \"salario\": \"$27888\"\n",
        "            }]\n",
        "       }\n",
        "    )\n",
        "        \n",
        "\n",
        "def test__stats():\n",
        "\n",
        "   ds = DataStats()\n",
        "   \n",
        "   assert ds._stats(test_data, 20, 20000) == {\n",
        "        \"edad_promedio\": 62,\n",
        "        \"salario_promedio\": 55165,\n",
        "        \"incremento_anual_promedio\": 837,\n",
        "        \"max_salario\": [{\n",
        "            \"id\": 3,\n",
        "            \"nombre\": \"Tomo\",\n",
        "            \"apodo\": \"Frugs\",\n",
        "             \"edad\": 70,\n",
        "              \"salario\": \"$70472\"\n",
        "    }],\n",
        "    \"min_salario\": [{\n",
        "        \"id\": 1,\n",
        "        \"nombre\": \"Irene\",\n",
        "        \"apodo\": \"Lara\",\n",
        "        \"edad\": 68,\n",
        "        \"salario\": \"$27888\"\n",
        "        \n",
        "        }]\n",
        "    }\n",
        "\n",
        "def test__edad_promedio():\n",
        "  ds = DataStats()\n",
        "  \n",
        "  assert ds._edad_promedio(test_data) == 62\n",
        "\n",
        "def test__salario_promedio():\n",
        "  ds = DataStats()\n",
        "  assert ds._salario_promedio(test_data) == 55165\n",
        "\n",
        "def test__incremento_anual_promedio():\n",
        "  ds = DataStats()\n",
        "\n",
        "  assert ds._incremento_anual_promedio(test_data, 20, 20000) == 837\n"
      ],
      "metadata": {
        "colab": {
          "base_uri": "https://localhost:8080/"
        },
        "id": "S-Sp_wD7NkWF",
        "outputId": "33fbf9a4-f943-45b0-fb7a-fcafd1675666"
      },
      "execution_count": null,
      "outputs": [
        {
          "output_type": "stream",
          "name": "stdout",
          "text": [
            "Overwriting test_datastats.py\n"
          ]
        }
      ]
    },
    {
      "cell_type": "code",
      "source": [
        "! pytest test_datastats.py"
      ],
      "metadata": {
        "colab": {
          "base_uri": "https://localhost:8080/"
        },
        "id": "rp1qMEa0Oe2k",
        "outputId": "449d653a-6339-4121-d8be-a20bbb76b450"
      },
      "execution_count": null,
      "outputs": [
        {
          "output_type": "stream",
          "name": "stdout",
          "text": [
            "\u001b[1m============================= test session starts ==============================\u001b[0m\n",
            "platform linux -- Python 3.10.11, pytest-7.2.2, pluggy-1.0.0\n",
            "rootdir: /content\n",
            "plugins: anyio-3.6.2\n",
            "\u001b[1mcollecting ... \u001b[0m\u001b[1m\rcollected 5 items                                                              \u001b[0m\n",
            "\n",
            "test_datastats.py \u001b[32m.\u001b[0m\u001b[32m.\u001b[0m\u001b[32m.\u001b[0m\u001b[32m.\u001b[0m\u001b[32m.\u001b[0m\u001b[32m                                                  [100%]\u001b[0m\n",
            "\n",
            "\u001b[32m============================== \u001b[32m\u001b[1m5 passed\u001b[0m\u001b[32m in 0.02s\u001b[0m\u001b[32m ===============================\u001b[0m\n"
          ]
        }
      ]
    },
    {
      "cell_type": "markdown",
      "source": [
        "### 7 - Aislamiento los algoritmos de salario máximo y mínimo\n",
        "\n",
        "\n",
        "Para este caso identificamos las nuevas pruebas."
      ],
      "metadata": {
        "id": "AgkVijO_Oqct"
      }
    },
    {
      "cell_type": "code",
      "source": [
        "%%writefile datastats.py \n",
        "import math\n",
        "import json\n",
        "\n",
        "class DataStats:\n",
        "  \n",
        "  def _salario_promedio(self, data):\n",
        "    return math.floor(sum([int(e['salario'][1:]) for e in data])/len(data))\n",
        "\n",
        "  def _edad_promedio(self, data):\n",
        "    return math.floor(sum([e['edad'] for e in data])/len(data))\n",
        "\n",
        "  def _incremento_anual_promedio(self, data, iedad, isalario):\n",
        "    \n",
        "    incremento_edad_promedio = math.floor(\n",
        "            sum([e['edad'] for e in data])/len(data)) - iedad\n",
        "    incremento_salario_promedio = math.floor(\n",
        "            sum([int(e['salario'][1:]) for e in data])/len(data)) - isalario\n",
        "\n",
        "    return math.floor(incremento_salario_promedio/incremento_edad_promedio)\n",
        "  \n",
        "  def _max_salario(self, data):\n",
        "    salarios = [int(e['salario'][1:]) for e in data]\n",
        "    limite = '$' + str(max(salarios))\n",
        "\n",
        "    return [e for e in data if e['salario'] == limite]\n",
        "\n",
        "  def _min_salario(self, data):\n",
        "    salarios = [int(d['salario'][1:]) for d in data]\n",
        "    return [e for e in data if e['salario'] ==\n",
        "                '${}'.format(str(min(salarios)))]\n",
        "  \n",
        "  \n",
        "  def _stats(self, data, iedad, isalario):\n",
        "    return {\n",
        "            'edad_promedio': self._edad_promedio(data),\n",
        "            'salario_promedio': self._salario_promedio(data),\n",
        "            'incremento_anual_promedio': self._incremento_anual_promedio(\n",
        "                data, iedad, isalario),\n",
        "            'max_salario': self._max_salario(data),\n",
        "            'min_salario': self._min_salario(data)\n",
        "        }\n",
        "\n",
        "  def stats(self, data, iedad, isalario):\n",
        "    return json.dumps(\n",
        "      self._stats(data, iedad, isalario)\n",
        "  )"
      ],
      "metadata": {
        "colab": {
          "base_uri": "https://localhost:8080/"
        },
        "id": "UC9TlvVOPgng",
        "outputId": "da8fa43c-c6c0-4e3c-87db-040572ee6eb9"
      },
      "execution_count": null,
      "outputs": [
        {
          "output_type": "stream",
          "name": "stdout",
          "text": [
            "Overwriting datastats.py\n"
          ]
        }
      ]
    },
    {
      "cell_type": "code",
      "source": [
        "%%writefile test_datastats.py\n",
        "\n",
        "import json\n",
        "\n",
        "from datastats import DataStats\n",
        "\n",
        "test_data = [\n",
        "        {\n",
        "          \"id\": 1,\n",
        "          \"nombre\": \"Irene\",\n",
        "          \"apodo\": \"Lara\",\n",
        "          \"edad\": 68,\n",
        "          \"salario\": \"$27888\" \n",
        "        },\n",
        "       \n",
        "       {\n",
        "           \"id\": 2,\n",
        "          \"nombre\": \"Claudio\",\n",
        "          \"apodo\": \"Avila\",\n",
        "          \"edad\": 49,\n",
        "          \"salario\": \"$67137\"\n",
        "      },\n",
        "      {\n",
        "          \"id\": 3,\n",
        "          \"nombre\": \"Tomo\",\n",
        "          \"apodo\": \"Frugs\",\n",
        "          \"edad\": 70,\n",
        "          \"salario\": \"$70472\"\n",
        "      }\n",
        "    ]\n",
        "\n",
        "def test_json():\n",
        "  \n",
        "  ds = DataStats()\n",
        "\n",
        "  assert ds.stats(test_data, 20, 20000) == json.dumps(\n",
        "        {\n",
        "            \"edad_promedio\": 62,\n",
        "            \"salario_promedio\": 55165,\n",
        "            \"incremento_anual_promedio\": 837,\n",
        "            \"max_salario\": [{\n",
        "                 \"id\": 3,\n",
        "                  \"nombre\": \"Tomo\",\n",
        "                  \"apodo\": \"Frugs\",\n",
        "                  \"edad\": 70,\n",
        "                  \"salario\": \"$70472\"\n",
        "           }],\n",
        "          \"min_salario\": [{\n",
        "              \"id\": 1,\n",
        "              \"nombre\": \"Irene\",\n",
        "              \"apodo\": \"Lara\",\n",
        "              \"edad\": 68,\n",
        "              \"salario\": \"$27888\"\n",
        "            }]\n",
        "       }\n",
        "    )\n",
        "        \n",
        "\n",
        "def test__stats():\n",
        "\n",
        "   ds = DataStats()\n",
        "   \n",
        "   assert ds._stats(test_data, 20, 20000) == {\n",
        "        \"edad_promedio\": 62,\n",
        "        \"salario_promedio\": 55165,\n",
        "        \"incremento_anual_promedio\": 837,\n",
        "        \"max_salario\": [{\n",
        "            \"id\": 3,\n",
        "            \"nombre\": \"Tomo\",\n",
        "            \"apodo\": \"Frugs\",\n",
        "             \"edad\": 70,\n",
        "              \"salario\": \"$70472\"\n",
        "    }],\n",
        "    \"min_salario\": [{\n",
        "        \"id\": 1,\n",
        "        \"nombre\": \"Irene\",\n",
        "        \"apodo\": \"Lara\",\n",
        "        \"edad\": 68,\n",
        "        \"salario\": \"$27888\"\n",
        "        \n",
        "        }]\n",
        "    }\n",
        "\n",
        "def test__edad_promedio():\n",
        "  ds = DataStats()\n",
        "  assert ds._edad_promedio(test_data) == 62\n",
        "\n",
        "def test__salario_promedio():\n",
        "  ds = DataStats()\n",
        "  assert ds._salario_promedio(test_data) == 55165\n",
        "\n",
        "def test__incremento_anual_promedio():\n",
        "  ds = DataStats()\n",
        "  assert ds._incremento_anual_promedio(test_data, 20, 20000) == 837\n",
        "\n",
        "\n",
        "def test__max_salario():  \n",
        "  ds = DataStats()\n",
        "  \n",
        "  assert ds._max_salario(test_data) == [{\n",
        "        \"id\": 3,\n",
        "          \"nombre\": \"Tomo\",\n",
        "          \"apodo\": \"Frugs\",\n",
        "          \"edad\": 70,\n",
        "          \"salario\": \"$70472\"\n",
        "    }]\n",
        "\n",
        "def test__min_salario():\n",
        "  ds = DataStats()\n",
        "  assert ds._min_salario(test_data) ==[{\n",
        "      \"id\": 1,\n",
        "      \"nombre\": \"Irene\",\n",
        "      \"apodo\": \"Lara\",\n",
        "      \"edad\": 68,\n",
        "      \"salario\": \"$27888\"\n",
        "       }]"
      ],
      "metadata": {
        "colab": {
          "base_uri": "https://localhost:8080/"
        },
        "outputId": "d3044b9c-6848-4884-a3f9-e2148c84292a",
        "id": "kafy66OhRm3w"
      },
      "execution_count": null,
      "outputs": [
        {
          "output_type": "stream",
          "name": "stdout",
          "text": [
            "Overwriting test_datastats.py\n"
          ]
        }
      ]
    },
    {
      "cell_type": "code",
      "source": [
        "! pytest -v test_datastats.py"
      ],
      "metadata": {
        "colab": {
          "base_uri": "https://localhost:8080/"
        },
        "id": "6ktekB85TswY",
        "outputId": "59158da7-9017-44b4-fd9a-e617692ce22c"
      },
      "execution_count": null,
      "outputs": [
        {
          "output_type": "stream",
          "name": "stdout",
          "text": [
            "\u001b[1m============================= test session starts ==============================\u001b[0m\n",
            "platform linux -- Python 3.10.11, pytest-7.2.2, pluggy-1.0.0 -- /usr/bin/python3\n",
            "cachedir: .pytest_cache\n",
            "rootdir: /content\n",
            "plugins: anyio-3.6.2\n",
            "\u001b[1mcollecting ... \u001b[0m\u001b[1m\rcollected 7 items                                                              \u001b[0m\n",
            "\n",
            "test_datastats.py::test_json \u001b[32mPASSED\u001b[0m\u001b[32m                                      [ 14%]\u001b[0m\n",
            "test_datastats.py::test__stats \u001b[32mPASSED\u001b[0m\u001b[32m                                    [ 28%]\u001b[0m\n",
            "test_datastats.py::test__edad_promedio \u001b[32mPASSED\u001b[0m\u001b[32m                            [ 42%]\u001b[0m\n",
            "test_datastats.py::test__salario_promedio \u001b[32mPASSED\u001b[0m\u001b[32m                         [ 57%]\u001b[0m\n",
            "test_datastats.py::test__incremento_anual_promedio \u001b[32mPASSED\u001b[0m\u001b[32m                [ 71%]\u001b[0m\n",
            "test_datastats.py::test__max_salario \u001b[32mPASSED\u001b[0m\u001b[32m                              [ 85%]\u001b[0m\n",
            "test_datastats.py::test__min_salario \u001b[32mPASSED\u001b[0m\u001b[32m                              [100%]\u001b[0m\n",
            "\n",
            "\u001b[32m============================== \u001b[32m\u001b[1m7 passed\u001b[0m\u001b[32m in 0.02s\u001b[0m\u001b[32m ===============================\u001b[0m\n"
          ]
        }
      ]
    },
    {
      "cell_type": "code",
      "source": [
        "! pip install coverage\n",
        "! pip install pytest-cov"
      ],
      "metadata": {
        "colab": {
          "base_uri": "https://localhost:8080/"
        },
        "id": "jZw51vCuYlKI",
        "outputId": "143293b9-fba3-4ec7-d1be-2209c1ad5fe1"
      },
      "execution_count": null,
      "outputs": [
        {
          "output_type": "stream",
          "name": "stdout",
          "text": [
            "Looking in indexes: https://pypi.org/simple, https://us-python.pkg.dev/colab-wheels/public/simple/\n",
            "Collecting coverage\n",
            "  Downloading coverage-7.2.5-cp310-cp310-manylinux_2_5_x86_64.manylinux1_x86_64.manylinux_2_17_x86_64.manylinux2014_x86_64.whl (228 kB)\n",
            "\u001b[2K     \u001b[90m━━━━━━━━━━━━━━━━━━━━━━━━━━━━━━━━━━━━━━━\u001b[0m \u001b[32m228.2/228.2 kB\u001b[0m \u001b[31m8.0 MB/s\u001b[0m eta \u001b[36m0:00:00\u001b[0m\n",
            "\u001b[?25hInstalling collected packages: coverage\n",
            "Successfully installed coverage-7.2.5\n",
            "Looking in indexes: https://pypi.org/simple, https://us-python.pkg.dev/colab-wheels/public/simple/\n",
            "Collecting pytest-cov\n",
            "  Downloading pytest_cov-4.0.0-py3-none-any.whl (21 kB)\n",
            "Requirement already satisfied: pytest>=4.6 in /usr/local/lib/python3.10/dist-packages (from pytest-cov) (7.2.2)\n",
            "Requirement already satisfied: coverage[toml]>=5.2.1 in /usr/local/lib/python3.10/dist-packages (from pytest-cov) (7.2.5)\n",
            "Requirement already satisfied: tomli in /usr/local/lib/python3.10/dist-packages (from coverage[toml]>=5.2.1->pytest-cov) (2.0.1)\n",
            "Requirement already satisfied: iniconfig in /usr/local/lib/python3.10/dist-packages (from pytest>=4.6->pytest-cov) (2.0.0)\n",
            "Requirement already satisfied: pluggy<2.0,>=0.12 in /usr/local/lib/python3.10/dist-packages (from pytest>=4.6->pytest-cov) (1.0.0)\n",
            "Requirement already satisfied: packaging in /usr/local/lib/python3.10/dist-packages (from pytest>=4.6->pytest-cov) (23.1)\n",
            "Requirement already satisfied: attrs>=19.2.0 in /usr/local/lib/python3.10/dist-packages (from pytest>=4.6->pytest-cov) (23.1.0)\n",
            "Requirement already satisfied: exceptiongroup>=1.0.0rc8 in /usr/local/lib/python3.10/dist-packages (from pytest>=4.6->pytest-cov) (1.1.1)\n",
            "Installing collected packages: pytest-cov\n",
            "Successfully installed pytest-cov-4.0.0\n"
          ]
        }
      ]
    },
    {
      "cell_type": "code",
      "source": [
        "!pytest --cov=datastats datastats.py"
      ],
      "metadata": {
        "colab": {
          "base_uri": "https://localhost:8080/"
        },
        "id": "jIFgMO3ZY2l2",
        "outputId": "9f66cd9e-55ad-4932-db5d-5d133792415b"
      },
      "execution_count": null,
      "outputs": [
        {
          "output_type": "stream",
          "name": "stdout",
          "text": [
            "\u001b[1m============================= test session starts ==============================\u001b[0m\n",
            "platform linux -- Python 3.10.11, pytest-7.2.2, pluggy-1.0.0\n",
            "rootdir: /content\n",
            "plugins: cov-4.0.0, anyio-3.6.2\n",
            "\u001b[1mcollecting ... \u001b[0m\u001b[1m\rcollected 0 items                                                              \u001b[0m\n",
            "\n",
            "\n",
            "---------- coverage: platform linux, python 3.10.11-final-0 ----------\n",
            "Name           Stmts   Miss  Cover\n",
            "----------------------------------\n",
            "datastats.py      22     12    45%\n",
            "----------------------------------\n",
            "TOTAL             22     12    45%\n",
            "\n",
            "\u001b[33m============================ \u001b[33mno tests ran\u001b[0m\u001b[33m in 0.03s\u001b[0m\u001b[33m =============================\u001b[0m\n"
          ]
        }
      ]
    },
    {
      "cell_type": "markdown",
      "source": [
        "#### 8 Reducción de la duplicación de código\n",
        "\n",
        "Del código anterior los dos métodos `_max_salario()` y `_min_salario()` comparten una gran cantidad de código, aunque el segundo es más conciso.\n"
      ],
      "metadata": {
        "id": "hgDIIhOFYfRu"
      }
    },
    {
      "cell_type": "code",
      "source": [
        "def _max_salario(self, data):\n",
        "  salarios = [int(e['salario'][1:]) for e in data]\n",
        "  limite = '$' + str(max(salarios))\n",
        "\n",
        "  return [e for e in data if e['salario'] == limite]\n",
        "\n",
        "def _min_salario(self, data):\n",
        "  salarios = [int(d['salario'][1:]) for d in data]\n",
        "  return [e for e in data if e['salario'] ==\n",
        "                '$'.format(str(min(salarios)))]"
      ],
      "metadata": {
        "id": "Yw2Wt5ApWzpu"
      },
      "execution_count": null,
      "outputs": []
    },
    {
      "cell_type": "markdown",
      "source": [
        "Veamos el caso de la variable `limite` en la segunda función. Tan pronto como se cambie algo, ejecuta las pruebas para verificar que el comportamiento externo no haya cambiado."
      ],
      "metadata": {
        "id": "BIyVkJTCbDXQ"
      }
    },
    {
      "cell_type": "code",
      "source": [
        "def _max_salario(self, data):\n",
        "  salarios = [int(e['salario'][1:]) for e in data]\n",
        "  limite = '$' + str(max(salarios))\n",
        "\n",
        "  return [e for e in data if e['salario'] == limite]\n",
        "\n",
        "def _min_salario(self, data):\n",
        "  salarios = [int(d['salario'][1:]) for d in data]\n",
        "  limite = '$'.format(str(min(salarios)))\n",
        "    \n",
        "  return [e for e in data if e['salario'] == limite]"
      ],
      "metadata": {
        "id": "gUAs8TCKbNrr"
      },
      "execution_count": null,
      "outputs": []
    },
    {
      "cell_type": "markdown",
      "source": [
        "Ahora las dos funciones son las mismas pero para las funciones `min()` y `max()`. Todavía usan diferentes nombres de variables y diferentes códigos para formatear el limite, por lo que una primera acción es igualarlos, copiando el código de `_min_salario()` a `_max_salario()` y cambiando `min()` a `max()`-\n"
      ],
      "metadata": {
        "id": "5O6lmgezer9B"
      }
    },
    {
      "cell_type": "code",
      "source": [
        "def _max_salario(self, data):\n",
        "  salarios = [int(e['salario'][1:]) for d in data]\n",
        "  limite = '$'.format(str(max(salarios)))\n",
        "\n",
        "  return [e for e in data if e['salario'] == limite]\n",
        "\n",
        "def _min_salario(self, data):\n",
        "  salarios = [int(d['salario'][1:]) for d in data]\n",
        "  limite = '$'.format(str(min(salarios)))\n",
        "    \n",
        "  return [e for e in data if e['salario'] == limite]"
      ],
      "metadata": {
        "id": "SthsVqb1faT6"
      },
      "execution_count": null,
      "outputs": []
    },
    {
      "cell_type": "markdown",
      "source": [
        "Creamos la función `_select_salario()` que duplique ese código y acepte una función en lugar de `min()` o `max()`. "
      ],
      "metadata": {
        "id": "TnmneZ_PgTRO"
      }
    },
    {
      "cell_type": "code",
      "source": [
        "def _select_salario(self, data, func):\n",
        "  salarios = [int(d['salario'][1:]) for d in data]\n",
        "  limite = '${}'.format(str(func(salarios)))\n",
        "\n",
        "  return [e for e in data if e['salario'] == limite]\n",
        "\n",
        "def _max_salario(self, data):\n",
        "  return self._select_salario(data, max)\n",
        "\n",
        "def _min_salario(self, data):\n",
        "  return self._select_salario(data, min)"
      ],
      "metadata": {
        "id": "UZ-URnEagusm"
      },
      "execution_count": null,
      "outputs": []
    },
    {
      "cell_type": "markdown",
      "source": [
        "Hay una duplicación de código entre `_salario_promedio()` y `_select_salario()`.\n"
      ],
      "metadata": {
        "id": "29ncjBM_hQai"
      }
    },
    {
      "cell_type": "code",
      "source": [
        "def _salario_promedio(self, data):\n",
        "  return math.floor(sum([int(e['salario'][1:]) for e in data])/len(data))"
      ],
      "metadata": {
        "id": "zpdDlJxshVb7"
      },
      "execution_count": null,
      "outputs": []
    },
    {
      "cell_type": "code",
      "source": [
        "def _select_salario(self, data, func):\n",
        "  salarios = [int(d['salario'][1:]) for d in data]"
      ],
      "metadata": {
        "id": "A_t0gw9AhZLk"
      },
      "execution_count": null,
      "outputs": []
    },
    {
      "cell_type": "markdown",
      "source": [
        "Extraemos el algoritmo común en un método llamado `_salarios()`, para ello primero escribimos la prueba."
      ],
      "metadata": {
        "id": "WcclOOihhwoh"
      }
    },
    {
      "cell_type": "code",
      "source": [
        "def test_salarios():\n",
        "  ds = DataStats()\n",
        "  assert ds._salarios(test_data) == [27888, 67137, 70472]"
      ],
      "metadata": {
        "id": "QwZiuyKMh78Z"
      },
      "execution_count": null,
      "outputs": []
    },
    {
      "cell_type": "markdown",
      "source": [
        "Implementamos el método."
      ],
      "metadata": {
        "id": "ud6-O69giMdx"
      }
    },
    {
      "cell_type": "code",
      "source": [
        "def _salarios(self, data):\n",
        "  return [int(d['salario'][1:]) for d in data]"
      ],
      "metadata": {
        "id": "0KDaK85biOyA"
      },
      "execution_count": null,
      "outputs": []
    },
    {
      "cell_type": "markdown",
      "source": [
        "Reemplazamos el código duplicado con una llamada al nuevo método."
      ],
      "metadata": {
        "id": "-yBCenqniclh"
      }
    },
    {
      "cell_type": "code",
      "source": [
        "def _salarios(self, data):\n",
        "  return [int(d['salario'][1:]) for d in data]"
      ],
      "metadata": {
        "id": "WVk9eFlDigap"
      },
      "execution_count": null,
      "outputs": []
    },
    {
      "cell_type": "code",
      "source": [
        "def _select_salario(self, data, func):\n",
        "  limite= '${}'.format(str(func(self._salarios(data))))\n",
        "  return [e for e in data if e['salario'] == limite]"
      ],
      "metadata": {
        "id": "YuqYDG-6ilPU"
      },
      "execution_count": null,
      "outputs": []
    },
    {
      "cell_type": "markdown",
      "source": [
        "Veamos el código de `_incremento_anual_promedio()`. ¿Cuál es el problema del código?"
      ],
      "metadata": {
        "id": "KOgMn3_Zi-cB"
      }
    },
    {
      "cell_type": "code",
      "source": [
        "def _incremento_anual_promedio(self, data, iedad, isalario):\n",
        "  incremento_edad_promedio = math.floor(\n",
        "      sum([e['edad'] for e in data])/len(data)) - iedad\n",
        "    \n",
        "  incremento_salario_promedio = math.floor(\n",
        "      sum(self._salarios(data))/len(data)) - isalario\n",
        "        \n",
        "  return math.floor(incremento_salario_promedio/incremento_edad_promedio)"
      ],
      "metadata": {
        "id": "WfSVbBrhjdWg"
      },
      "execution_count": null,
      "outputs": []
    },
    {
      "cell_type": "markdown",
      "source": [
        "El código de `_incremento_anual_promedio()` contiene el código de los métodos `_edad_promedio()` y `_salario_promedio()`, por lo que vale la pena reemplazarlo con dos llamadas. "
      ],
      "metadata": {
        "id": "qJ8cac0uj93B"
      }
    },
    {
      "cell_type": "code",
      "source": [
        "def _incremento_anual_promedio(self, data, iedad, isalario):\n",
        "  incremento_edad_promedio= self._edad_promedio(data) - iedad\n",
        "  incremento_salario_promedio = self._salario_promedio(data) - isalario\n",
        "\n",
        "  return math.floor(incremento_salario_promedio/incremento_edad_promedio)"
      ],
      "metadata": {
        "id": "Y5Nfl4BDkqnX"
      },
      "execution_count": null,
      "outputs": []
    },
    {
      "cell_type": "markdown",
      "source": [
        "#### 9 Refactorización avanzada\n",
        "\n",
        "El objetivo es cambiar la clase actual para que coincida con la nueva API y luego crear una clase que envuelva la primera y proporcione la API anterior. . La estrategia no es tan diferente de lo que hicimos anteriormente, solo que esta vez trataremos con clases en lugar de métodos. Con un estupendo esfuerzo de mi imaginación nombré a la nueva clase `NDataStats`. \n",
        "\n",
        "Lo primero, como sucede muy a menudo con la refactorización, es duplicar el código, y cuando insertamos código nuevo necesitamos tener pruebas que lo justifiquen. \n",
        "\n",
        "Las pruebas serán las mismas que antes, ya que la nueva clase proporcionará las mismas funcionalidades que la anterior, así que solo crea un nuevo archivo, llamado `test_ndatastats.py` y allí se coloca la primera prueba `test_init()`."
      ],
      "metadata": {
        "id": "v_vVOsYzlmkk"
      }
    },
    {
      "cell_type": "code",
      "source": [
        "%%writefile test_ndatastats.py\n",
        "import json\n",
        "\n",
        "from datastats import NDataStats\n",
        "test_data = [\n",
        "    {\n",
        "          \"id\": 1,\n",
        "          \"nombre\": \"Irene\",\n",
        "          \"apodo\": \"Lara\",\n",
        "          \"edad\": 68,\n",
        "          \"salario\": \"$27888\" \n",
        "        },\n",
        "       \n",
        "       {\n",
        "           \"id\": 2,\n",
        "          \"nombre\": \"Claudio\",\n",
        "          \"apodo\": \"Avila\",\n",
        "          \"edad\": 49,\n",
        "          \"salario\": \"$67137\"\n",
        "      },\n",
        "      {\n",
        "          \"id\": 3,\n",
        "          \"nombre\": \"Tomo\",\n",
        "          \"apodo\": \"Frugs\",\n",
        "          \"edad\": 70,\n",
        "          \"salario\": \"$70472\"\n",
        "      }\n",
        "    \n",
        "]\n",
        "\n",
        "def test_init():\n",
        "  ds = NDataStats(test_data)\n",
        "  assert ds.data == test_data"
      ],
      "metadata": {
        "colab": {
          "base_uri": "https://localhost:8080/"
        },
        "id": "BJo4lXPYnjW-",
        "outputId": "7e764c4f-d975-4f6a-d543-224da3d4b5e9"
      },
      "execution_count": null,
      "outputs": [
        {
          "output_type": "stream",
          "name": "stdout",
          "text": [
            "Writing test_ndatastats.py\n"
          ]
        }
      ]
    },
    {
      "cell_type": "markdown",
      "source": [
        "**Pregunta:** Escribe la nueva clase `NdataStats` en el archivo `datastats.py` y comprueba si la prueba anterior pasa."
      ],
      "metadata": {
        "id": "BfQQxBiMqssN"
      }
    },
    {
      "cell_type": "code",
      "source": [
        "# Tu respuesta."
      ],
      "metadata": {
        "id": "xZozYH62rYCI"
      },
      "execution_count": null,
      "outputs": []
    },
    {
      "cell_type": "markdown",
      "source": [
        "Ahora iniciamos un proceso iterativo:\n",
        "\n",
        "- Copia una de las pruebas de `DataStats` y adapta  a `NDataStats`\n",
        "- Copia algo de código de `DataStats` a `NDataStats`, adaptándolo a la nueva API y haciendo pasar una prueba.\n",
        "\n",
        "En este punto, eliminar iterativamente métodos de `DataStats` y reemplazarlos con una llamada a `NDataStats` es una exageración.\n",
        "\n",
        "Un ejemplo de las pruebas resultantes para `NDataStats` es el siguiente:"
      ],
      "metadata": {
        "id": "YNsqV5aDrrNg"
      }
    },
    {
      "cell_type": "code",
      "source": [
        "#def test_edad():\n",
        "#  ds = NDataStats(test_data)\n",
        "#   assert ds._edades() == [68, 49, 70]"
      ],
      "metadata": {
        "id": "z_lQ9SUupVgl"
      },
      "execution_count": null,
      "outputs": []
    },
    {
      "cell_type": "markdown",
      "source": [
        "Y el código que pasa la prueba para este caso es:"
      ],
      "metadata": {
        "id": "YqPUMmJNsg1g"
      }
    },
    {
      "cell_type": "code",
      "source": [
        "#def _edades(self):\n",
        "#  return [d['edad'] for d in self.data]"
      ],
      "metadata": {
        "id": "2Xvmgoa0scs7"
      },
      "execution_count": null,
      "outputs": []
    },
    {
      "cell_type": "markdown",
      "source": [
        "Los métodos como `_edades()` ya no requieren un parámetro de entrada y se pueden convertir convertirlos en propiedades, cambiando las pruebas con `@property`."
      ],
      "metadata": {
        "id": "hFD-Qwe6tFec"
      }
    },
    {
      "cell_type": "markdown",
      "source": [
        "Es hora de reemplazar los métodos de `DataStats` con llamadas a `NDataStats`. Podríamos hacerlo método por método, pero en realidad lo único que realmente necesitamos es reemplazar `stats()`. Así que el nuevo código es:"
      ],
      "metadata": {
        "id": "6xJwRAQmuP_Q"
      }
    },
    {
      "cell_type": "code",
      "source": [
        "#class DataStats:\n",
        "#  def stats(self, data, iedad, isalario):\n",
        "#    nds = NDataStats(data)\n",
        "#    return nds.stats(iedad, isalario)"
      ],
      "metadata": {
        "id": "3n8RYUT4ttFq"
      },
      "execution_count": null,
      "outputs": []
    },
    {
      "cell_type": "markdown",
      "source": [
        "**Pregunta:** Edita los archivos necesarios para ejecutar la prueba. ¿Cuál es el código de cobertura para este ejemplo."
      ],
      "metadata": {
        "id": "5DQXGliOlMQx"
      }
    },
    {
      "cell_type": "code",
      "source": [
        "# Tu respuesta"
      ],
      "metadata": {
        "id": "3c8audA-lX0w"
      },
      "execution_count": null,
      "outputs": []
    },
    {
      "cell_type": "markdown",
      "source": [
        "**Pregunta:** La refactorización es un proceso iterativo, a menudo sucederá que crees que hiciste todo lo posible, solo para descubrir más tarde que te perdiste algo. En este caso, el paso faltante es una pequeña duplicación de código.\n",
        "\n",
        "Las dos funciones comparten la misma lógica, por lo que definitivamente podemos aislar esto  y llamar al código común en cada función."
      ],
      "metadata": {
        "id": "kQFD-QzmvPX1"
      }
    },
    {
      "cell_type": "code",
      "source": [
        "#def _salario_promedio(self):\n",
        "#  return math.floor(sum(self._salarios)/len(self.data))\n",
        "\n",
        "#def _edad_promedio(self):\n",
        "#  return math.floor(sum(self._edades)/len(self.data))"
      ],
      "metadata": {
        "id": "7GTchJEpw1dt"
      },
      "execution_count": null,
      "outputs": []
    },
    {
      "cell_type": "code",
      "source": [
        "#def _promedio_floor(self, suma_de_numberos):\n",
        "#  return math.floor(suma_de_numeros / len(self.data))\n",
        "\n",
        "#def _salario_promedio(self):\n",
        "#  return self._promedio_floor(sum(self._salarios))\n",
        "\n",
        "#def _edad_promedio(self):\n",
        "#  return self._promedio_floor(sum(self._edades))"
      ],
      "metadata": {
        "id": "6oLDObFXxBf8"
      },
      "execution_count": null,
      "outputs": []
    },
    {
      "cell_type": "markdown",
      "source": [
        "Edita los archivos necesarios para ejecutar la prueba. ¿Cuál es el código de cobertura para este ejemplo."
      ],
      "metadata": {
        "id": "CVjZOwOqxKR0"
      }
    },
    {
      "cell_type": "code",
      "source": [
        "## Tu respuesta."
      ],
      "metadata": {
        "id": "RwKyWn1exN2R"
      },
      "execution_count": null,
      "outputs": []
    },
    {
      "cell_type": "markdown",
      "source": [
        "**Referencias**\n",
        "\n",
        "- [Why do developers hate code coverage? And why they should not hate it!](https://www.effective-software-testing.com/why-do-developers-hate-code-coverage)\n",
        "- [Do unit tests make refactoring harder?](https://www.effective-software-testing.com/do-unit-tests-make-refactoring-harder)."
      ],
      "metadata": {
        "id": "tjAQdfPAxQGs"
      }
    },
    {
      "cell_type": "code",
      "source": [],
      "metadata": {
        "id": "C70mdSPryNDn"
      },
      "execution_count": null,
      "outputs": []
    }
  ]
}